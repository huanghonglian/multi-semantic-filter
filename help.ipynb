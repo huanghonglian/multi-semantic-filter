{
 "cells": [
  {
   "cell_type": "markdown",
   "id": "47bdf106-6fec-4593-99a1-659f33b97254",
   "metadata": {},
   "source": [
    "## Multi-semantic entity recognition and filter usage tutorial"
   ]
  },
  {
   "cell_type": "markdown",
   "id": "15f0a45a-0a72-4e49-b1ab-95c42de81e24",
   "metadata": {},
   "source": [
    "The purpose of semantic filter is to remove false positive results of metamap recognition and improve the accuracy of entity recognition."
   ]
  },
  {
   "cell_type": "markdown",
   "id": "3d0f41d0-ac8a-4f2a-9120-2f198b72db31",
   "metadata": {},
   "source": [
    "Download package: <a href=\"http://www.biomedinfo.cn:8281/static/download/multi-semantic_filter.zip\">semantic_filter.zip</a>"
   ]
  },
  {
   "cell_type": "markdown",
   "id": "4561e198-1638-45bf-92e3-96cc2c04a108",
   "metadata": {},
   "source": [
    "#### Metamap installation"
   ]
  },
  {
   "cell_type": "markdown",
   "id": "d37b9f3b-e6a2-413e-8ced-b2573b37ca4e",
   "metadata": {},
   "source": [
    "Before using the our semantic filter, you need to install the MetaMap tool.  \n",
    "\n",
    "For installation instructions for MetaMap, please refer to:  \n",
    "\n",
    "https://lhncbc.nlm.nih.gov/ii/tools/MetaMap/documentation/Installation.html#metamap-installation. \n",
    "\n",
    "https://lhncbc.nlm.nih.gov/ii/tools/MetaMap/run-locally/MainDownload.html."
   ]
  },
  {
   "cell_type": "code",
   "execution_count": null,
   "id": "1d79bc62-ef78-46f2-a365-adca3705cfb6",
   "metadata": {},
   "outputs": [],
   "source": [
    "#Add environment variable\n",
    "#Replace 'zh' in the command line with your username\n",
    "echo 'export PATH=\"/home/zh/public_mm/bin:$PATH\"' >> ~/.bashrc\n",
    "source ~/.bashrc"
   ]
  },
  {
   "cell_type": "markdown",
   "id": "dc473295-9ba6-48dd-8900-bd2ea415d3dc",
   "metadata": {},
   "source": [
    "#### step 1. Literature retrieval"
   ]
  },
  {
   "cell_type": "markdown",
   "id": "9a0144a7-55b2-4675-9a9e-9b14ea1355aa",
   "metadata": {},
   "source": [
    "For each case, we obtained its standard expression term and synonyms from MeSH database, then used these terms to retrieved PubMed database and get the relevant PubMed identifiers (PMIDs). \n",
    "\n",
    "For a simple example case named 'test', we curate the search term in PubMed.gov, and save as _../case/test/test.term.txt_."
   ]
  },
  {
   "cell_type": "code",
   "execution_count": null,
   "id": "98bd18f6-4eaf-4d47-bc5f-f4971e5ffbcf",
   "metadata": {},
   "outputs": [],
   "source": [
    "((Stomach Neoplasm[Title/Abstract]) OR (Gastric Cancer[Title/Abstract])) AND \n",
    "(((Herpesvirus 4, Human[Title/Abstract]) OR (Epstein Barr Virus[Title/Abstract])) OR (EBV[Title/Abstract]))"
   ]
  },
  {
   "cell_type": "markdown",
   "id": "174f2d82-f149-4d78-9ec3-71ab357c31bd",
   "metadata": {},
   "source": [
    "Run following code to obtain pmid and abstract in medline format:"
   ]
  },
  {
   "cell_type": "code",
   "execution_count": null,
   "id": "225d669a-1ad8-4ef6-9d2a-825eb8fdf478",
   "metadata": {
    "tags": []
   },
   "outputs": [],
   "source": [
    "cd lib\n",
    "python medline_download.py -c test"
   ]
  },
  {
   "cell_type": "markdown",
   "id": "1c4828c7-a522-478b-bea5-73b25f7fe1b3",
   "metadata": {},
   "source": [
    "The results are saved as _../case/test/test.pmid.txt_ and _../case/MEDLINE/*_.  To streamline subsequent entity recognition, we will split the PMIDs into files of 10,000 each."
   ]
  },
  {
   "cell_type": "markdown",
   "id": "3e9c1d40-c279-468e-a25b-2b0f1d887251",
   "metadata": {},
   "source": [
    "#### step 2. Multi-semantic entity recognition"
   ]
  },
  {
   "cell_type": "markdown",
   "id": "d8a1c59f-a1e8-47dd-b94b-499dd2fbf793",
   "metadata": {},
   "source": [
    "MetaMap is a highly configurable application developed by the Lister Hill National Center for Biomedical Communications at the National Library of Medicine (NLM) to map biomedical text to the UMLS Metathesaurus or, equivalently, to identify Metathesaurus concepts referred to in English text. The UMLS is a comprehensive biomedical vocabulary that includes over 3.3 million biomedical concepts from more than 200 different source vocabularies and defines 127 semantic types. In this study, we selected 43 semantic types related to viral carcinogenesis from these 127 semantic types. These 43 semantic types were divided into 38 external factors and 5 internal factors based on their biological significance"
   ]
  },
  {
   "cell_type": "markdown",
   "id": "958097b2-60ce-4d2b-aa0a-76ea2346ddcb",
   "metadata": {},
   "source": [
    "For detailed descriptions of the 127 semantic types, please refer to:  \n",
    "https://lhncbc.nlm.nih.gov/ii/tools/MetaMap/documentation/SemanticTypesAndGroups.html"
   ]
  },
  {
   "cell_type": "markdown",
   "id": "12880ed6-1ff6-4ac4-bba9-6ebac7de9d19",
   "metadata": {},
   "source": [
    "If you wish to recognize entities of other semantic types, you can modify the _./knol/Semantic/semantic_select.txt_ file. Please note that the file should only contain abbreviations of semantic types, with each abbreviation on a separate line."
   ]
  },
  {
   "cell_type": "code",
   "execution_count": null,
   "id": "014f3a8b-64a1-43fa-966e-12a312066035",
   "metadata": {},
   "outputs": [],
   "source": [
    "python metamap.py -c test"
   ]
  },
  {
   "cell_type": "markdown",
   "id": "52b9776a-6e85-4c7a-a804-c532838b2cb9",
   "metadata": {},
   "source": [
    "The results are saved as _./case/test/out/*_. The terminal output of the identification process is recorded in _./case/test/log/*_."
   ]
  },
  {
   "cell_type": "markdown",
   "id": "7d201073-18fd-4cb8-9635-e82b8377afb2",
   "metadata": {},
   "source": [
    "#### step 3. Improve accuracy with semantic filter"
   ]
  },
  {
   "cell_type": "markdown",
   "id": "7c484b34-ea15-47f8-ae95-587eb6531091",
   "metadata": {
    "tags": []
   },
   "source": [
    "Semantic filters are used to remove false positive entities resulting from metamap recognition."
   ]
  },
  {
   "cell_type": "code",
   "execution_count": null,
   "id": "234301ad-2c7a-402c-b5e9-6fcb0f2cc1d1",
   "metadata": {},
   "outputs": [],
   "source": [
    "# For a case named test, we run step 1-3:\n",
    "cd lib\n",
    "python metamap2anno.py -c test -f"
   ]
  },
  {
   "cell_type": "markdown",
   "id": "b50b0a4c-bc87-4b31-b9fb-02ec9cef5a2b",
   "metadata": {
    "tags": []
   },
   "source": [
    "usage: metamap2anno1.py [-h] -c CASE [-f]  \n",
    "\n",
    "Entity processing tool  \n",
    "\n",
    "options:  \n",
    "&emsp;-h,&emsp;--help$~~~~~~~~~~~~~~~~~~~~~~$show this help message and exit  \n",
    "&emsp;-c&emsp;CASE, --case CASE$~~~~$Specify the case name  \n",
    "&emsp;-f,&emsp;--filter$~~~~~~~~~~~~~~~~~~~~~~$Using the semantic filter; if -f is not included, it defaults to False.  "
   ]
  },
  {
   "cell_type": "markdown",
   "id": "5faca93f-2bdd-4070-a8c0-48a6af59ebcc",
   "metadata": {},
   "source": [
    "The results with filter are saved in _./case/MetaMap/metamap_anno_filter.txt_, while the results without filter are in the  _./case/MetaMap/metamap_anno.txt_. Sentences are saved in./case/metamap/metamap_sent.txt"
   ]
  },
  {
   "cell_type": "markdown",
   "id": "fa5e9b4b-1fe1-47e1-a5df-8b42a58adbe8",
   "metadata": {
    "tags": []
   },
   "source": [
    "### Contacts"
   ]
  },
  {
   "cell_type": "markdown",
   "id": "706f9b37-1268-488d-a601-6224427ffee3",
   "metadata": {
    "tags": []
   },
   "source": [
    "honglian_huang@163.com, Tongji University, Shanghai, 200092, China"
   ]
  }
 ],
 "metadata": {
  "kernelspec": {
   "display_name": "Python 3 (ipykernel)",
   "language": "python",
   "name": "python3"
  },
  "language_info": {
   "codemirror_mode": {
    "name": "ipython",
    "version": 3
   },
   "file_extension": ".py",
   "mimetype": "text/x-python",
   "name": "python",
   "nbconvert_exporter": "python",
   "pygments_lexer": "ipython3",
   "version": "3.10.9"
  }
 },
 "nbformat": 4,
 "nbformat_minor": 5
}
